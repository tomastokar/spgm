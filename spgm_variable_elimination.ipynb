{
 "cells": [
  {
   "cell_type": "code",
   "execution_count": 1,
   "id": "fad40777-9d12-4300-8ae6-1f79c897d5a5",
   "metadata": {},
   "outputs": [],
   "source": [
    "from utils import CPDTable, BNet, MyVariableElimination"
   ]
  },
  {
   "cell_type": "markdown",
   "id": "ecc6b3f9-9822-4ba7-9455-2d9a6affcb34",
   "metadata": {},
   "source": [
    "<br>\n",
    "\n",
    "# Example 1: Simple network\n",
    "\n",
    "A simple Bayesian network: \n",
    "\n",
    "$C \\rightarrow B \\rightarrow A$"
   ]
  },
  {
   "cell_type": "code",
   "execution_count": 2,
   "id": "180ac186-2ff4-4829-ae9e-56bdb42c281e",
   "metadata": {},
   "outputs": [],
   "source": [
    "edges = [\n",
    "    ('C', 'B'), \n",
    "    ('B', 'A')\n",
    "]"
   ]
  },
  {
   "cell_type": "markdown",
   "id": "e8e9f8ff-95b4-43ae-b1b9-fc85617db0e5",
   "metadata": {},
   "source": [
    "<br>\n",
    "\n",
    "Initialize Bayesian net model"
   ]
  },
  {
   "cell_type": "code",
   "execution_count": 3,
   "id": "9230b931-cb9e-4fdc-8e75-259a9589b3b1",
   "metadata": {},
   "outputs": [],
   "source": [
    "model = BNet(edges)"
   ]
  },
  {
   "cell_type": "markdown",
   "id": "f8071083-0925-487f-8c5c-97b5d159a760",
   "metadata": {},
   "source": [
    "<br>\n",
    "\n",
    "A conditional probability tables:"
   ]
  },
  {
   "cell_type": "code",
   "execution_count": 4,
   "id": "460c3461-57a8-4ccb-a96c-b474e8866a82",
   "metadata": {},
   "outputs": [],
   "source": [
    "p_ab = CPDTable(\n",
    "    target = ['A'], \n",
    "    values = [\n",
    "        [.1, .7], \n",
    "        [.9, .3]\n",
    "    ], \n",
    "    evidence = ['B']\n",
    ")\n",
    "\n",
    "p_bc = CPDTable(\n",
    "    target = ['B'], \n",
    "    values = [\n",
    "        [.6, .5], \n",
    "        [.4, .5]\n",
    "    ], \n",
    "    evidence = ['C']\n",
    ")\n",
    "\n",
    "p_c  = CPDTable(\n",
    "    target = ['C'], \n",
    "    values = [\n",
    "        [.2], [.8]\n",
    "    ]\n",
    ")"
   ]
  },
  {
   "cell_type": "markdown",
   "id": "d7f2aa40-9233-4939-9818-1d3c69e6c563",
   "metadata": {},
   "source": [
    "<br>\n",
    "\n",
    "Add CPDs to the model"
   ]
  },
  {
   "cell_type": "code",
   "execution_count": 5,
   "id": "feb7fb23-5bce-4b60-aa54-0715d67db69e",
   "metadata": {},
   "outputs": [],
   "source": [
    "cpds = [p_ab, p_bc, p_c]\n",
    "for cpd in cpds:\n",
    "    model.add_cpd(cpd)"
   ]
  },
  {
   "cell_type": "markdown",
   "id": "3322f7f4-c584-4417-a835-659ce1347ba5",
   "metadata": {},
   "source": [
    "<br>\n",
    "\n",
    "Initialize variable eliminator"
   ]
  },
  {
   "cell_type": "code",
   "execution_count": 6,
   "id": "429ec6fe-07d7-4906-97c2-4fb168b67dc8",
   "metadata": {},
   "outputs": [],
   "source": [
    "eliminator = MyVariableElimination(model)"
   ]
  },
  {
   "cell_type": "markdown",
   "id": "791f7da1-9539-48f2-83a2-7a4d585c39d0",
   "metadata": {},
   "source": [
    "<br>\n",
    "\n",
    "Run query P(A|C=0)"
   ]
  },
  {
   "cell_type": "code",
   "execution_count": 7,
   "id": "926c9dd4-bf09-4e34-a05e-a1179b4aecd4",
   "metadata": {},
   "outputs": [
    {
     "name": "stdout",
     "output_type": "stream",
     "text": [
      "Variables to eliminate in order: B\n"
     ]
    }
   ],
   "source": [
    "res = eliminator.run_query(\n",
    "    variables = ['A'], \n",
    "    evidence = {'C' : 0}\n",
    ")"
   ]
  },
  {
   "cell_type": "code",
   "execution_count": 8,
   "id": "218b8ec3-dc77-4fea-bc91-663abcf677cd",
   "metadata": {},
   "outputs": [
    {
     "name": "stdout",
     "output_type": "stream",
     "text": [
      "['A']\n",
      "[0.34 0.66]\n"
     ]
    }
   ],
   "source": [
    "print(res.variables)\n",
    "print(res.values)"
   ]
  },
  {
   "cell_type": "code",
   "execution_count": 9,
   "id": "17e50188-458d-4c4a-aca8-9f62b308c75c",
   "metadata": {},
   "outputs": [
    {
     "name": "stdout",
     "output_type": "stream",
     "text": [
      "Variables to eliminate in order: B\n"
     ]
    }
   ],
   "source": [
    "res = eliminator.run_query(\n",
    "    variables = ['A'], \n",
    "    evidence = {'C' : 1}\n",
    ")"
   ]
  },
  {
   "cell_type": "code",
   "execution_count": 10,
   "id": "b3074c76-a9c6-45fc-b9a2-46ee320e0341",
   "metadata": {},
   "outputs": [
    {
     "name": "stdout",
     "output_type": "stream",
     "text": [
      "['A']\n",
      "[0.4 0.6]\n"
     ]
    }
   ],
   "source": [
    "print(res.variables)\n",
    "print(res.values)"
   ]
  },
  {
   "cell_type": "markdown",
   "id": "8ec23443-fb3b-46bd-b936-5ebbc5c80078",
   "metadata": {},
   "source": [
    "<br>\n",
    "\n",
    "# Example 2: Burglary network\n",
    "\n",
    "A burglary network: \n",
    "\n",
    "$Burglary \\rightarrow Alarm$; $Earthquake \\rightarrow Alarm$; $Alarm \\rightarrow MaryCalls$; $Alarm \\rightarrow JohnCalls$"
   ]
  },
  {
   "cell_type": "code",
   "execution_count": 11,
   "id": "80e89c91-ed81-4e7b-8c1e-42592e4650d8",
   "metadata": {},
   "outputs": [],
   "source": [
    "burglary_edges = [\n",
    "    (\"Burglary\", \"Alarm\"),\n",
    "    (\"Earthquake\", \"Alarm\"),\n",
    "    (\"Alarm\", \"JohnCalls\"),\n",
    "    (\"Alarm\", \"MaryCalls\"),\n",
    "]"
   ]
  },
  {
   "cell_type": "markdown",
   "id": "c309937f-fcbe-4144-a7c9-1de7bf190350",
   "metadata": {},
   "source": [
    "<br>\n",
    "\n",
    "Initialize Bayesian net model"
   ]
  },
  {
   "cell_type": "code",
   "execution_count": 12,
   "id": "efbc279f-2756-49b6-adbf-baf6fb5b36aa",
   "metadata": {},
   "outputs": [],
   "source": [
    "burglary_model = BNet(burglary_edges)"
   ]
  },
  {
   "cell_type": "markdown",
   "id": "6bab3af8-7545-46f2-aad9-24f8ff803ccd",
   "metadata": {},
   "source": [
    "<br>\n",
    "\n",
    "A conditional probability tables:"
   ]
  },
  {
   "cell_type": "code",
   "execution_count": 13,
   "id": "3b9db2db-7d32-4a0e-b7e4-67997e9c4691",
   "metadata": {},
   "outputs": [],
   "source": [
    "cpd_burglary = CPDTable(\n",
    "    target = [\"Burglary\"], \n",
    "    values=[[0.999], [0.001]]\n",
    ")\n",
    "\n",
    "cpd_earthquake = CPDTable(\n",
    "    target=[\"Earthquake\"], \n",
    "    values=[[0.998], [0.002]]\n",
    ")\n",
    "\n",
    "cpd_alarm = CPDTable(\n",
    "    target=[\"Alarm\"],\n",
    "    values=[\n",
    "        [0.999, 0.71, 0.06, 0.05], \n",
    "        [0.001, 0.29, 0.94, 0.95]\n",
    "    ],\n",
    "    evidence=[\"Burglary\", \"Earthquake\"]\n",
    ")\n",
    "cpd_johncalls = CPDTable(\n",
    "    target=[\"JohnCalls\"],\n",
    "    values=[\n",
    "        [0.95, 0.1], \n",
    "        [0.05, 0.9]\n",
    "    ],\n",
    "    evidence=[\"Alarm\"]    \n",
    ")\n",
    "\n",
    "cpd_marycalls = CPDTable(\n",
    "    target=[\"MaryCalls\"],    \n",
    "    values=[\n",
    "        [0.1, 0.7], \n",
    "        [0.9, 0.3]\n",
    "    ],\n",
    "    evidence=[\"Alarm\"],\n",
    ")"
   ]
  },
  {
   "cell_type": "markdown",
   "id": "70036f92-2c7c-43f7-a353-2adc1c899e36",
   "metadata": {},
   "source": [
    "<br>\n",
    "\n",
    "Add CPDs to the model"
   ]
  },
  {
   "cell_type": "code",
   "execution_count": 14,
   "id": "24e47794-b7fa-4513-a110-a4bf9ae9ae77",
   "metadata": {},
   "outputs": [],
   "source": [
    "cpds = [cpd_burglary, cpd_earthquake, cpd_alarm, cpd_johncalls, cpd_marycalls]\n",
    "for cpd in cpds:\n",
    "    burglary_model.add_cpd(cpd)"
   ]
  },
  {
   "cell_type": "markdown",
   "id": "9d7b7fc6-2ed2-405c-a6f3-354d2681bf7c",
   "metadata": {},
   "source": [
    "<br>\n",
    "\n",
    "Initialize variable eliminator"
   ]
  },
  {
   "cell_type": "code",
   "execution_count": 15,
   "id": "a74a77e0-fcec-4748-9708-f1eed9aa693a",
   "metadata": {},
   "outputs": [],
   "source": [
    "eliminator = MyVariableElimination(burglary_model)"
   ]
  },
  {
   "cell_type": "markdown",
   "id": "967be137-6a78-43d8-bdb6-eb46380de375",
   "metadata": {},
   "source": [
    "<br>\n",
    "\n",
    "Rum query P(MarryCalls|JohnCalls = 0)"
   ]
  },
  {
   "cell_type": "code",
   "execution_count": 16,
   "id": "589d194b-9ee3-470d-892f-e0bac1b0ce8c",
   "metadata": {},
   "outputs": [
    {
     "name": "stdout",
     "output_type": "stream",
     "text": [
      "Variables to eliminate in order: Burglary, Earthquake, Alarm\n"
     ]
    }
   ],
   "source": [
    "res = eliminator.run_query(\n",
    "    variables = ['MaryCalls'], \n",
    "    evidence = {'JohnCalls' : 0}\n",
    ")"
   ]
  },
  {
   "cell_type": "code",
   "execution_count": 17,
   "id": "8527cb98-fcd0-428a-a864-561136e95197",
   "metadata": {},
   "outputs": [
    {
     "name": "stdout",
     "output_type": "stream",
     "text": [
      "['MaryCalls']\n",
      "[0.10015929 0.89984071]\n"
     ]
    }
   ],
   "source": [
    "print(res.variables)\n",
    "print(res.values)"
   ]
  },
  {
   "cell_type": "markdown",
   "id": "965de74e-d716-4a8a-9db1-75db7be11198",
   "metadata": {},
   "source": [
    "<br>\n",
    "\n",
    "Rum query P(MarryCalls|JohnCalls = 1)"
   ]
  },
  {
   "cell_type": "code",
   "execution_count": 18,
   "id": "50f740ac-c1e1-40cb-97b5-519c5c62efc4",
   "metadata": {},
   "outputs": [
    {
     "name": "stdout",
     "output_type": "stream",
     "text": [
      "Variables to eliminate in order: Burglary, Earthquake, Alarm\n"
     ]
    }
   ],
   "source": [
    "res = eliminator.run_query(\n",
    "    variables = ['MaryCalls'], \n",
    "    evidence = {'JohnCalls' : 1}\n",
    ")"
   ]
  },
  {
   "cell_type": "code",
   "execution_count": 19,
   "id": "4c5d6740-b9cd-4f73-b21e-c336932a7595",
   "metadata": {},
   "outputs": [
    {
     "name": "stdout",
     "output_type": "stream",
     "text": [
      "['MaryCalls']\n",
      "[0.12606263 0.87393737]\n"
     ]
    }
   ],
   "source": [
    "print(res.variables)\n",
    "print(res.values)"
   ]
  },
  {
   "cell_type": "markdown",
   "id": "dc3bdfe7-b065-4a12-9515-a337ed958d48",
   "metadata": {},
   "source": [
    "---"
   ]
  }
 ],
 "metadata": {
  "kernelspec": {
   "display_name": "Python 3 (ipykernel)",
   "language": "python",
   "name": "python3"
  },
  "language_info": {
   "codemirror_mode": {
    "name": "ipython",
    "version": 3
   },
   "file_extension": ".py",
   "mimetype": "text/x-python",
   "name": "python",
   "nbconvert_exporter": "python",
   "pygments_lexer": "ipython3",
   "version": "3.10.6"
  },
  "vscode": {
   "interpreter": {
    "hash": "d86e76d3090339bf53194dc59eb0e5fbb6f1c372f9be54c3b5098930f618c2cb"
   }
  }
 },
 "nbformat": 4,
 "nbformat_minor": 5
}
