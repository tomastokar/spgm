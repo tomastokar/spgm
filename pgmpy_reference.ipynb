{
 "cells": [
  {
   "cell_type": "code",
   "execution_count": 2,
   "id": "fad40777-9d12-4300-8ae6-1f79c897d5a5",
   "metadata": {},
   "outputs": [],
   "source": [
    "from pgmpy.models import BayesianNetwork\n",
    "from pgmpy.factors.discrete import TabularCPD\n",
    "from pgmpy.inference import VariableElimination"
   ]
  },
  {
   "cell_type": "markdown",
   "id": "ecc6b3f9-9822-4ba7-9455-2d9a6affcb34",
   "metadata": {},
   "source": [
    "<br>\n",
    "\n",
    "# Example 1: Simple network\n",
    "\n",
    "A simple Bayesian network: \n",
    "\n",
    "$A \\rightarrow B \\rightarrow C$"
   ]
  },
  {
   "cell_type": "code",
   "execution_count": 3,
   "id": "5966598a-d599-4689-a1db-2d084446d93b",
   "metadata": {},
   "outputs": [],
   "source": [
    "edges = [\n",
    "    ('C', 'B'), \n",
    "    ('B', 'A')\n",
    "]\n",
    "\n",
    "model = BayesianNetwork(edges)"
   ]
  },
  {
   "cell_type": "markdown",
   "id": "f8071083-0925-487f-8c5c-97b5d159a760",
   "metadata": {},
   "source": [
    "<br>\n",
    "\n",
    "A conditional probability tables:"
   ]
  },
  {
   "cell_type": "code",
   "execution_count": 7,
   "id": "460c3461-57a8-4ccb-a96c-b474e8866a82",
   "metadata": {},
   "outputs": [],
   "source": [
    "p_ab = TabularCPD(\n",
    "    variable = 'A', \n",
    "    variable_card = 2,\n",
    "    values = [\n",
    "        [.1, .7], \n",
    "        [.9, .3]\n",
    "    ], \n",
    "    evidence = ['B'],\n",
    "    evidence_card = [2]\n",
    ")\n",
    "\n",
    "p_bc = TabularCPD(\n",
    "    variable = 'B', \n",
    "    variable_card = 2,\n",
    "    values = [\n",
    "        [.6, .5], \n",
    "        [.4, .5]\n",
    "    ], \n",
    "    evidence = ['C'],\n",
    "    evidence_card = [2]\n",
    ")\n",
    "\n",
    "p_c  = TabularCPD(\n",
    "    variable = 'C', \n",
    "    variable_card = 2,    \n",
    "    values = [\n",
    "        [.2], [.8]\n",
    "    ]\n",
    ")"
   ]
  },
  {
   "cell_type": "code",
   "execution_count": 9,
   "id": "feb7fb23-5bce-4b60-aa54-0715d67db69e",
   "metadata": {},
   "outputs": [],
   "source": [
    "model.add_cpds(p_ab, p_bc, p_c)\n",
    "model.check_model()"
   ]
  },
  {
   "cell_type": "code",
   "execution_count": 16,
   "id": "429ec6fe-07d7-4906-97c2-4fb168b67dc8",
   "metadata": {},
   "outputs": [],
   "source": [
    "infer = VariableElimination(model)\n",
    "res_0 = infer.query([\"A\"], evidence={\"C\" : 0})\n",
    "res_1 = infer.query([\"A\"], evidence={\"C\" : 1})"
   ]
  },
  {
   "cell_type": "code",
   "execution_count": 17,
   "id": "1f2f77dc-b690-4f7e-8370-71f67dc02d18",
   "metadata": {},
   "outputs": [
    {
     "name": "stdout",
     "output_type": "stream",
     "text": [
      "['A']\n",
      "[0.34 0.66]\n"
     ]
    }
   ],
   "source": [
    "print(res_0.variables)\n",
    "print(res_0.values)"
   ]
  },
  {
   "cell_type": "code",
   "execution_count": 18,
   "id": "17e50188-458d-4c4a-aca8-9f62b308c75c",
   "metadata": {},
   "outputs": [
    {
     "name": "stdout",
     "output_type": "stream",
     "text": [
      "['A']\n",
      "[0.4 0.6]\n"
     ]
    }
   ],
   "source": [
    "print(res_1.variables)\n",
    "print(res_1.values)"
   ]
  },
  {
   "cell_type": "markdown",
   "id": "8ec23443-fb3b-46bd-b936-5ebbc5c80078",
   "metadata": {},
   "source": [
    "<br>\n",
    "\n",
    "# Example 2: Burglary network\n",
    "\n",
    "A burglary network: \n",
    "\n",
    "$Burglary \\rightarrow Alarm$; $Earthquake \\rightarrow Alarm$; $Alarm \\rightarrow MaryCalls$; $Alarm \\rightarrow JohnCalls$"
   ]
  },
  {
   "cell_type": "code",
   "execution_count": 19,
   "id": "ff132234-51b6-418a-b712-a4960ae6dac8",
   "metadata": {},
   "outputs": [],
   "source": [
    "burglary_edges = [\n",
    "    (\"Burglary\", \"Alarm\"),\n",
    "    (\"Earthquake\", \"Alarm\"),\n",
    "    (\"Alarm\", \"JohnCalls\"),\n",
    "    (\"Alarm\", \"MaryCalls\"),\n",
    "]\n",
    "alarm_model = BayesianNetwork(burglary_edges)"
   ]
  },
  {
   "cell_type": "markdown",
   "id": "6bab3af8-7545-46f2-aad9-24f8ff803ccd",
   "metadata": {},
   "source": [
    "<br>\n",
    "\n",
    "A conditional probability tables:"
   ]
  },
  {
   "cell_type": "code",
   "execution_count": 20,
   "id": "3b9db2db-7d32-4a0e-b7e4-67997e9c4691",
   "metadata": {},
   "outputs": [],
   "source": [
    "cpd_burglary = TabularCPD(\n",
    "    variable=\"Burglary\", variable_card=2, values=[[0.999], [0.001]]\n",
    ")\n",
    "cpd_earthquake = TabularCPD(\n",
    "    variable=\"Earthquake\", variable_card=2, values=[[0.998], [0.002]]\n",
    ")\n",
    "cpd_alarm = TabularCPD(\n",
    "    variable=\"Alarm\",\n",
    "    variable_card=2,\n",
    "    values=[[0.999, 0.71, 0.06, 0.05], [0.001, 0.29, 0.94, 0.95]],\n",
    "    evidence=[\"Burglary\", \"Earthquake\"],\n",
    "    evidence_card=[2, 2],\n",
    ")\n",
    "cpd_johncalls = TabularCPD(\n",
    "    variable=\"JohnCalls\",\n",
    "    variable_card=2,\n",
    "    values=[[0.95, 0.1], [0.05, 0.9]],\n",
    "    evidence=[\"Alarm\"],\n",
    "    evidence_card=[2],\n",
    ")\n",
    "cpd_marycalls = TabularCPD(\n",
    "    variable=\"MaryCalls\",\n",
    "    variable_card=2,\n",
    "    values=[[0.1, 0.7], [0.9, 0.3]],\n",
    "    evidence=[\"Alarm\"],\n",
    "    evidence_card=[2],\n",
    ")"
   ]
  },
  {
   "cell_type": "code",
   "execution_count": 23,
   "id": "24e47794-b7fa-4513-a110-a4bf9ae9ae77",
   "metadata": {},
   "outputs": [
    {
     "data": {
      "text/plain": [
       "True"
      ]
     },
     "execution_count": 23,
     "metadata": {},
     "output_type": "execute_result"
    }
   ],
   "source": [
    "alarm_model.add_cpds(\n",
    "    cpd_burglary, \n",
    "    cpd_earthquake, \n",
    "    cpd_alarm, \n",
    "    cpd_johncalls, \n",
    "    cpd_marycalls\n",
    ")\n",
    "alarm_model.check_model()"
   ]
  },
  {
   "cell_type": "code",
   "execution_count": 26,
   "id": "a74a77e0-fcec-4748-9708-f1eed9aa693a",
   "metadata": {},
   "outputs": [],
   "source": [
    "infer = VariableElimination(alarm_model)\n",
    "res_0 = infer.query([\"MaryCalls\"], evidence={\"JohnCalls\": 0})\n",
    "res_1 = infer.query([\"MaryCalls\"], evidence={\"JohnCalls\": 1})"
   ]
  },
  {
   "cell_type": "code",
   "execution_count": 27,
   "id": "8527cb98-fcd0-428a-a864-561136e95197",
   "metadata": {},
   "outputs": [
    {
     "name": "stdout",
     "output_type": "stream",
     "text": [
      "['MaryCalls']\n",
      "[0.10015929 0.89984071]\n"
     ]
    }
   ],
   "source": [
    "print(res_0.variables)\n",
    "print(res_0.values)"
   ]
  },
  {
   "cell_type": "code",
   "execution_count": 28,
   "id": "50f740ac-c1e1-40cb-97b5-519c5c62efc4",
   "metadata": {},
   "outputs": [
    {
     "name": "stdout",
     "output_type": "stream",
     "text": [
      "['MaryCalls']\n",
      "[0.12606263 0.87393737]\n"
     ]
    }
   ],
   "source": [
    "print(res_1.variables)\n",
    "print(res_1.values)"
   ]
  },
  {
   "cell_type": "code",
   "execution_count": null,
   "id": "192545be-3fc9-480d-8051-644a5e63ff25",
   "metadata": {},
   "outputs": [],
   "source": []
  }
 ],
 "metadata": {
  "kernelspec": {
   "display_name": "Python 3 (ipykernel)",
   "language": "python",
   "name": "python3"
  },
  "language_info": {
   "codemirror_mode": {
    "name": "ipython",
    "version": 3
   },
   "file_extension": ".py",
   "mimetype": "text/x-python",
   "name": "python",
   "nbconvert_exporter": "python",
   "pygments_lexer": "ipython3",
   "version": "3.10.6"
  }
 },
 "nbformat": 4,
 "nbformat_minor": 5
}
