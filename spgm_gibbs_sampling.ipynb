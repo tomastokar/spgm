{
 "cells": [
  {
   "cell_type": "code",
   "execution_count": 1,
   "id": "bb6bd966-425c-4cb7-83a3-b1cf70ea5ed6",
   "metadata": {},
   "outputs": [],
   "source": [
    "import numpy as np\n",
    "import matplotlib.pyplot as plt\n",
    "from utils import CPDTable, BNet, MyGibbsSampler, MyVariableElimination"
   ]
  },
  {
   "cell_type": "markdown",
   "id": "63275f67-b923-41d4-afbe-a040011face4",
   "metadata": {},
   "source": [
    "<br>\n",
    "\n",
    "# Example 1: Burglary network\n",
    "\n",
    "A burglary network: \n",
    "\n",
    "$Burglary \\rightarrow Alarm$; $Earthquake \\rightarrow Alarm$; $Alarm \\rightarrow MaryCalls$; $Alarm \\rightarrow JohnCalls$"
   ]
  },
  {
   "cell_type": "markdown",
   "id": "56255107-fa3a-40f6-975f-8d742a1a812b",
   "metadata": {},
   "source": [
    "<br>\n",
    "\n",
    "Initialize edges"
   ]
  },
  {
   "cell_type": "code",
   "execution_count": 2,
   "id": "27f3f731-da70-432b-8a7a-8d0eef05ef00",
   "metadata": {},
   "outputs": [],
   "source": [
    "burglary_edges = [\n",
    "    (\"Burglary\", \"Alarm\"),\n",
    "    (\"Earthquake\", \"Alarm\"),\n",
    "    (\"Alarm\", \"JohnCalls\"),\n",
    "    (\"Alarm\", \"MaryCalls\"),\n",
    "]"
   ]
  },
  {
   "cell_type": "markdown",
   "id": "241fd724-4e6d-4704-ba4d-783ec760c765",
   "metadata": {},
   "source": [
    "<br>\n",
    "\n",
    "Initiliaze Bayesian net model"
   ]
  },
  {
   "cell_type": "code",
   "execution_count": 3,
   "id": "b06c3f82-a352-47c4-9c4e-a4d7c3922a9d",
   "metadata": {},
   "outputs": [],
   "source": [
    "burglary_model = BNet(burglary_edges)"
   ]
  },
  {
   "cell_type": "markdown",
   "id": "fc76f6ee-279e-4346-8a91-ac4c8e02a9e3",
   "metadata": {},
   "source": [
    "<br>\n",
    "\n",
    "Create conditional probability distribution tables"
   ]
  },
  {
   "cell_type": "code",
   "execution_count": 4,
   "id": "d462b0ad-ac05-4a53-91d6-584ab2034b39",
   "metadata": {},
   "outputs": [],
   "source": [
    "cpd_burglary = CPDTable(\n",
    "    target=[\"Burglary\"], \n",
    "    values=[[0.999], [0.001]]\n",
    ")\n",
    "\n",
    "cpd_earthquake = CPDTable(\n",
    "    target=[\"Earthquake\"], \n",
    "    values=[[0.998], [0.002]]\n",
    ")\n",
    "\n",
    "cpd_alarm = CPDTable(\n",
    "    target=[\"Alarm\"],\n",
    "    values=[\n",
    "        [0.999, 0.71, 0.06, 0.05], \n",
    "        [0.001, 0.29, 0.94, 0.95]\n",
    "    ],\n",
    "    evidence=[\"Burglary\", \"Earthquake\"]\n",
    ")\n",
    "cpd_johncalls = CPDTable(\n",
    "    target=[\"JohnCalls\"],\n",
    "    values=[\n",
    "        [0.95, 0.1], \n",
    "        [0.05, 0.9]\n",
    "    ],\n",
    "    evidence=[\"Alarm\"]    \n",
    ")\n",
    "\n",
    "cpd_marycalls = CPDTable(\n",
    "    target=[\"MaryCalls\"],    \n",
    "    values=[\n",
    "        [0.1, 0.7], \n",
    "        [0.9, 0.3]\n",
    "    ],\n",
    "    evidence=[\"Alarm\"],\n",
    ")"
   ]
  },
  {
   "cell_type": "markdown",
   "id": "d5ffe8af-d873-4135-8a42-c3c8abdb87e5",
   "metadata": {},
   "source": [
    "<br>\n",
    "\n",
    "Add CPDs to the model"
   ]
  },
  {
   "cell_type": "code",
   "execution_count": 5,
   "id": "17c47be1-11fc-44d9-9623-2cacef61e9a7",
   "metadata": {},
   "outputs": [],
   "source": [
    "cpds = [cpd_burglary, cpd_earthquake, cpd_alarm, cpd_johncalls, cpd_marycalls]\n",
    "for cpd in cpds:\n",
    "    burglary_model.add_cpd(cpd)"
   ]
  },
  {
   "cell_type": "markdown",
   "id": "120ce1a2-450b-4f2f-8b65-617bf25f0ab8",
   "metadata": {},
   "source": [
    "<br>\n",
    "\n",
    "Initialize variable eliminator"
   ]
  },
  {
   "cell_type": "code",
   "execution_count": 6,
   "id": "4bcda556-1043-4be3-bf0a-dc2cd8bc4dd2",
   "metadata": {},
   "outputs": [],
   "source": [
    "eliminator = MyVariableElimination(burglary_model)"
   ]
  },
  {
   "cell_type": "markdown",
   "id": "5c7af8c8-b155-44c8-bd50-3bf0ab790cf8",
   "metadata": {},
   "source": [
    "<br>\n",
    "\n",
    "Initialize Gibbs sampler"
   ]
  },
  {
   "cell_type": "code",
   "execution_count": 16,
   "id": "7e5be294-9d53-415f-b283-63f61dadbedf",
   "metadata": {},
   "outputs": [],
   "source": [
    "sampler = MyGibbsSampler(\n",
    "    burglary_model,\n",
    "    burn_in=1e+3,\n",
    "    no_iters=1e+5,\n",
    "    thinning=10,\n",
    "    conf_level=0.95\n",
    ")"
   ]
  },
  {
   "cell_type": "markdown",
   "id": "f69c874a-41ec-4785-a61a-f59828b79043",
   "metadata": {},
   "source": [
    "<br>\n",
    "\n",
    "### Query 1a\n",
    "\n",
    "P(MaryCalls | JohnCalls = 1)"
   ]
  },
  {
   "cell_type": "markdown",
   "id": "774d4846-2d68-477c-a8cb-02dd15517bff",
   "metadata": {},
   "source": [
    "<br>\n",
    "\n",
    "Run Gibbs sampling"
   ]
  },
  {
   "cell_type": "code",
   "execution_count": null,
   "id": "a7c601fc-e249-4a4a-8c1b-b4a2f34819ef",
   "metadata": {},
   "outputs": [],
   "source": [
    "%%time\n",
    "sampler.run_query(['MaryCalls'], {'JohnCalls' : 1})"
   ]
  },
  {
   "cell_type": "markdown",
   "id": "5e5f8053-6868-4199-902f-964d24aadf2c",
   "metadata": {},
   "source": [
    "<br>\n",
    "\n",
    "To demonstrate convergence, calculate statistics under exponentially expanding number of observations"
   ]
  },
  {
   "cell_type": "code",
   "execution_count": null,
   "id": "567ae8c0-8855-4d00-8468-69b06565f7c9",
   "metadata": {},
   "outputs": [],
   "source": [
    "expected = []\n",
    "conf_int = []\n",
    "no_observations = 10**(np.arange(1, 4, 1) + 1)\n",
    "for n in no_observations:\n",
    "    results = sampler.get_results(max_obs = n)\n",
    "    e, ci = results['MaryCalls']\n",
    "    expected.append(e)\n",
    "    conf_int.append(ci)    "
   ]
  },
  {
   "cell_type": "markdown",
   "id": "d9bf185a-1c80-4828-bec3-e94387587544",
   "metadata": {},
   "source": [
    "<br>\n",
    "\n",
    "Calculate true expectations using variable elimination"
   ]
  },
  {
   "cell_type": "code",
   "execution_count": null,
   "id": "e244544b-f0fa-45fa-bd70-a6e57f5b21c2",
   "metadata": {},
   "outputs": [],
   "source": [
    "results = eliminator.run_query(\n",
    "    variables = ['MaryCalls'], \n",
    "    evidence = {'JohnCalls' : 1}\n",
    ")\n",
    "TRUE_EXPECTATION = results.values[1]"
   ]
  },
  {
   "cell_type": "markdown",
   "id": "9703ca3a-1a6b-4413-baeb-4f4c4bdab29c",
   "metadata": {},
   "source": [
    "<br>\n",
    "\n",
    "Compare the obtained results"
   ]
  },
  {
   "cell_type": "code",
   "execution_count": null,
   "id": "b59e2c30-9f91-469b-a4dd-a0a7ba8edd5e",
   "metadata": {},
   "outputs": [],
   "source": [
    "plt.errorbar(\n",
    "    x = no_observations, \n",
    "    y = expected, \n",
    "    yerr = conf_int, \n",
    "    fmt = 's',\n",
    "    color = 'steelblue'\n",
    ")\n",
    "\n",
    "plt.plot(\n",
    "    no_observations,\n",
    "    expected,\n",
    "    color = 'steelblue'\n",
    ")\n",
    "\n",
    "plt.axhline(\n",
    "    y = TRUE_EXPECTATION, \n",
    "    ls = '--', \n",
    "    color = 'red'\n",
    ")\n",
    "\n",
    "plt.title('P(MaryCalls | JohnCalls = 1)')\n",
    "plt.ylabel('P(MaryCalls = 1)')\n",
    "plt.xlabel('Iteration steps [#]')\n",
    "plt.xscale('log')\n",
    "plt.grid()\n",
    "plt.show()"
   ]
  },
  {
   "cell_type": "markdown",
   "id": "a0f329f5-d07e-499e-9648-c19f84fbf94b",
   "metadata": {},
   "source": [
    "<br>\n",
    "\n",
    "### Query 1b\n",
    "\n",
    "P(MaryCalls | JohnCalls = 0)"
   ]
  },
  {
   "cell_type": "markdown",
   "id": "e415fc52-1b55-41a5-bf91-7b0e213466da",
   "metadata": {},
   "source": [
    "<br>\n",
    "\n",
    "Run Gibbs sampling"
   ]
  },
  {
   "cell_type": "code",
   "execution_count": null,
   "id": "e7fee7cf-cbcf-4a4c-a2df-4f052582d4a2",
   "metadata": {},
   "outputs": [],
   "source": [
    "%%time\n",
    "sampler.run_query(['MaryCalls'], {'JohnCalls' : 0})"
   ]
  },
  {
   "cell_type": "markdown",
   "id": "e1369735-95e8-4fc9-9527-ad17b0f07eb1",
   "metadata": {},
   "source": [
    "<br>\n",
    "\n",
    "To demonstrate convergence, calculate statistics under exponentially expanding number of observations"
   ]
  },
  {
   "cell_type": "code",
   "execution_count": null,
   "id": "2db653d8-d95a-4a90-86b3-475dfad40003",
   "metadata": {},
   "outputs": [],
   "source": [
    "expected = []\n",
    "conf_int = []\n",
    "no_observations = 10**(np.arange(1, 4, 1) + 1)\n",
    "for n in no_observations:\n",
    "    results = sampler.get_results(max_obs = n)\n",
    "    e, ci = results['MaryCalls']\n",
    "    expected.append(e)\n",
    "    conf_int.append(ci)    "
   ]
  },
  {
   "cell_type": "markdown",
   "id": "ca692141-48fa-4090-b476-a74f36785469",
   "metadata": {},
   "source": [
    "<br>\n",
    "\n",
    "Calculate true expectations using variable elimination"
   ]
  },
  {
   "cell_type": "code",
   "execution_count": 26,
   "id": "ed15b9b3-045c-4fa1-afa6-cdd127d80030",
   "metadata": {},
   "outputs": [
    {
     "name": "stdout",
     "output_type": "stream",
     "text": [
      "Variables to eliminate in order: Earthquake, Burglary, Alarm\n"
     ]
    }
   ],
   "source": [
    "results = eliminator.run_query(\n",
    "    variables = ['MaryCalls'], \n",
    "    evidence = {'JohnCalls' : 0}\n",
    ")\n",
    "TRUE_EXPECTATION = results.values[1]"
   ]
  },
  {
   "cell_type": "markdown",
   "id": "df9a1f16-a857-4173-a21e-0186886ecc19",
   "metadata": {},
   "source": [
    "<br>\n",
    "\n",
    "Compare the obtained results"
   ]
  },
  {
   "cell_type": "code",
   "execution_count": 27,
   "id": "84976222-76fc-487c-9ca8-710a52b70082",
   "metadata": {},
   "outputs": [
    {
     "data": {
      "image/png": "[encoded data removed]",
      "text/plain": [
       "<Figure size 640x480 with 1 Axes>"
      ]
     },
     "metadata": {},
     "output_type": "display_data"
    }
   ],
   "source": [
    "plt.errorbar(\n",
    "    x = no_observations, \n",
    "    y = expected, \n",
    "    yerr = conf_int, \n",
    "    fmt = 's',\n",
    "    color = 'steelblue'\n",
    ")\n",
    "\n",
    "plt.plot(\n",
    "    no_observations,\n",
    "    expected,\n",
    "    color = 'steelblue'\n",
    ")\n",
    "\n",
    "plt.axhline(\n",
    "    y = TRUE_EXPECTATION, \n",
    "    ls = '--', \n",
    "    color = 'red'\n",
    ")\n",
    "\n",
    "plt.title('P(MaryCalls | JohnCalls = 0)')\n",
    "plt.ylabel('P(MaryCalls = 1)')\n",
    "plt.xlabel('Iteration steps [#]')\n",
    "plt.xscale('log')\n",
    "plt.grid()\n",
    "plt.show()"
   ]
  },
  {
   "cell_type": "markdown",
   "id": "c1cff18c-e036-42c4-afc8-1d90cf7ce0a5",
   "metadata": {},
   "source": [
    "<br>\n",
    "\n",
    "# Example 2: \n",
    "\n",
    "A rain network: \n",
    "\n",
    "$Cloudy \\rightarrow Sprinkler$; $Cloudy \\rightarrow Rain$; $Sprinkler \\rightarrow WetGrass$; $Rain \\rightarrow WetGrass$"
   ]
  },
  {
   "cell_type": "markdown",
   "id": "6159b281-3dc3-4b0d-823a-a6d6334e1be9",
   "metadata": {},
   "source": [
    "<br>\n",
    "\n",
    "Initialize edges"
   ]
  },
  {
   "cell_type": "code",
   "execution_count": 14,
   "id": "77c6b170-c766-46cb-9db4-708e94b9fd17",
   "metadata": {},
   "outputs": [],
   "source": [
    "edges = [\n",
    "    ('Cloudy', 'Sprinkler'), \n",
    "    ('Cloudy', 'Rain'),     \n",
    "    ('Sprinkler', 'WetGrass'), \n",
    "    ('Rain', 'WetGrass'),     \n",
    "]"
   ]
  },
  {
   "cell_type": "markdown",
   "id": "bcd2294c-12e6-40a0-a7fc-0c8872c14c23",
   "metadata": {},
   "source": [
    "<br>\n",
    "\n",
    "Initialize Bayesian net model"
   ]
  },
  {
   "cell_type": "code",
   "execution_count": 15,
   "id": "c559d9bb-c4cc-4b49-ac20-a4858bebde00",
   "metadata": {},
   "outputs": [],
   "source": [
    "rain_model = BNet(edges)"
   ]
  },
  {
   "cell_type": "markdown",
   "id": "c08c3ab0-866b-4725-89cb-559b33a13617",
   "metadata": {},
   "source": [
    "<br>\n",
    "\n",
    "Create CPD tables"
   ]
  },
  {
   "cell_type": "code",
   "execution_count": 16,
   "id": "746a2dd8-d8f6-4ce1-a625-ce60c115ac37",
   "metadata": {},
   "outputs": [],
   "source": [
    "cpd_cloudy = CPDTable(\n",
    "    target = [\"Cloudy\"], \n",
    "    values=[[0.5], [0.5]]\n",
    ")\n",
    "\n",
    "cpd_sprinkler = CPDTable(\n",
    "    target=[\"Sprinkler\"], \n",
    "    values=[\n",
    "        [0.5, 0.9], \n",
    "        [0.5, 0.1]\n",
    "    ],\n",
    "    evidence = ['Cloudy']\n",
    ")\n",
    "\n",
    "cpd_rain = CPDTable(\n",
    "    target=[\"Rain\"], \n",
    "    values=[\n",
    "        [0.8, 0.2], \n",
    "        [0.2, 0.8]\n",
    "    ],\n",
    "    evidence = ['Cloudy']\n",
    ")\n",
    "\n",
    "cpd_wetgrass = CPDTable(\n",
    "    target=[\"WetGrass\"],\n",
    "    values=[\n",
    "        [0.99, 0.10, 0.10, 0.01], \n",
    "        [0.01, 0.90, 0.90, 0.99]\n",
    "    ],\n",
    "    evidence=[\"Sprinkler\", \"Rain\"]\n",
    ")"
   ]
  },
  {
   "cell_type": "markdown",
   "id": "b347b829-32fb-44fa-8f45-2aba7b3661ff",
   "metadata": {},
   "source": [
    "<br>\n",
    "\n",
    "Add CPDs to the model"
   ]
  },
  {
   "cell_type": "code",
   "execution_count": 17,
   "id": "e5bc43fc-eb43-41b9-b9f2-4dba4eac5884",
   "metadata": {},
   "outputs": [],
   "source": [
    "cpds = [cpd_cloudy, cpd_sprinkler, cpd_rain, cpd_wetgrass]\n",
    "for cpd in cpds:\n",
    "    rain_model.add_cpd(cpd)"
   ]
  },
  {
   "cell_type": "markdown",
   "id": "2644a29a-069c-435e-b846-20a67129a657",
   "metadata": {},
   "source": [
    "<br>\n",
    "\n",
    "Initialize variable eliminator"
   ]
  },
  {
   "cell_type": "code",
   "execution_count": 18,
   "id": "0bacca53-7eeb-490c-963e-cf5578651bec",
   "metadata": {},
   "outputs": [],
   "source": [
    "eliminator = MyVariableElimination(rain_model)"
   ]
  },
  {
   "cell_type": "markdown",
   "id": "bcffa086-b803-4516-9390-cb7a587f96ef",
   "metadata": {},
   "source": [
    "<br>\n",
    "\n",
    "Initialize Gibss sampler"
   ]
  },
  {
   "cell_type": "code",
   "execution_count": 19,
   "id": "3b2f76be-ddc6-4ce5-9f8c-af60e1bc2de0",
   "metadata": {},
   "outputs": [],
   "source": [
    "sampler = MyGibbsSampler(\n",
    "    rain_model,\n",
    "    burn_in=3e+3,\n",
    "    thinning=10,\n",
    "    conf_level=0.95\n",
    ")"
   ]
  },
  {
   "cell_type": "markdown",
   "id": "7c8e54b4-ea17-4876-a38f-ce702342a9c0",
   "metadata": {},
   "source": [
    "<br>\n",
    "\n",
    "Run Gibbs sampling under varying number of iterations"
   ]
  },
  {
   "cell_type": "code",
   "execution_count": 20,
   "id": "678acf6c-0f66-4e48-b09a-5d164ea879eb",
   "metadata": {},
   "outputs": [
    {
     "name": "stdout",
     "output_type": "stream",
     "text": [
      "CPU times: user 1min 14s, sys: 162 ms, total: 1min 14s\n",
      "Wall time: 1min 14s\n"
     ]
    }
   ],
   "source": [
    "%%time\n",
    "expected = []\n",
    "conf_int = []\n",
    "no_iterations = np.linspace(5000, 100000, 10)\n",
    "for n in no_iterations:\n",
    "    results = sampler.run_query(\n",
    "        ['WetGrass'], \n",
    "        {'Cloudy' : 1},\n",
    "        no_iters=n\n",
    "    )\n",
    "    results = results['WetGrass']\n",
    "    expected.append(results[0])\n",
    "    conf_int.append(results[1])    "
   ]
  },
  {
   "cell_type": "markdown",
   "id": "1c98670a-abcc-4c20-995e-78b7adadefe0",
   "metadata": {},
   "source": [
    "<br>\n",
    "\n",
    "Calculate true expectations using variable elimination"
   ]
  },
  {
   "cell_type": "code",
   "execution_count": 21,
   "id": "502fcbeb-74c2-418f-993e-0a3e9bc6705c",
   "metadata": {},
   "outputs": [
    {
     "name": "stdout",
     "output_type": "stream",
     "text": [
      "Variables to eliminate in order: Rain, Sprinkler\n"
     ]
    }
   ],
   "source": [
    "results = eliminator.run_query(\n",
    "    variables = ['WetGrass'], \n",
    "    evidence = {'Cloudy' : 1}\n",
    ")\n",
    "TRUE_EXPECTATION = results.values[1]"
   ]
  },
  {
   "cell_type": "markdown",
   "id": "92391d47-9b28-4012-9e2b-8407c9d04ab3",
   "metadata": {},
   "source": [
    "<br>\n",
    "\n",
    "Compare the obtained results"
   ]
  },
  {
   "cell_type": "code",
   "execution_count": 22,
   "id": "9b739ff4-2900-4ffc-a24e-8a1277bb00a0",
   "metadata": {},
   "outputs": [
    {
     "data": {
      "image/png": "[encoded data removed]",
      "text/plain": [
       "<Figure size 640x480 with 1 Axes>"
      ]
     },
     "metadata": {},
     "output_type": "display_data"
    }
   ],
   "source": [
    "plt.errorbar(\n",
    "    x = no_iterations, \n",
    "    y = expected, \n",
    "    yerr = conf_int, \n",
    "    fmt = 's',\n",
    "    color = 'steelblue'\n",
    ")\n",
    "\n",
    "plt.plot(\n",
    "    no_iterations,\n",
    "    expected,\n",
    "    color = 'steelblue'\n",
    ")\n",
    "\n",
    "plt.axhline(\n",
    "    y = TRUE_EXPECTATION, \n",
    "    ls = '--', \n",
    "    color = 'red'\n",
    ")\n",
    "\n",
    "plt.title('P(WetGrass | Cloudy = 0)')\n",
    "plt.ylabel('P(WetGrass = 1)')\n",
    "plt.xlabel('Iteration steps [#]')\n",
    "plt.grid()\n",
    "plt.show()"
   ]
  },
  {
   "cell_type": "markdown",
   "id": "da457acb-af0a-47c9-adaa-0987fe0b09ab",
   "metadata": {},
   "source": [
    "---"
   ]
  }
 ],
 "metadata": {
  "kernelspec": {
   "display_name": "Python 3 (ipykernel)",
   "language": "python",
   "name": "python3"
  },
  "language_info": {
   "codemirror_mode": {
    "name": "ipython",
    "version": 3
   },
   "file_extension": ".py",
   "mimetype": "text/x-python",
   "name": "python",
   "nbconvert_exporter": "python",
   "pygments_lexer": "ipython3",
   "version": "3.10.6"
  }
 },
 "nbformat": 4,
 "nbformat_minor": 5
}
