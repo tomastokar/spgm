{
 "cells": [
  {
   "cell_type": "code",
   "execution_count": 1,
   "id": "fad40777-9d12-4300-8ae6-1f79c897d5a5",
   "metadata": {},
   "outputs": [],
   "source": [
    "from utils import CPDTable, BNet, QRunner"
   ]
  },
  {
   "cell_type": "markdown",
   "id": "ecc6b3f9-9822-4ba7-9455-2d9a6affcb34",
   "metadata": {},
   "source": [
    "<br>\n",
    "\n",
    "# Example 1: Simple network\n",
    "\n",
    "A simple Bayesian network: \n",
    "\n",
    "$A \\rightarrow B \\rightarrow C$"
   ]
  },
  {
   "cell_type": "code",
   "execution_count": 2,
   "id": "5966598a-d599-4689-a1db-2d084446d93b",
   "metadata": {},
   "outputs": [],
   "source": [
    "edges = [\n",
    "    ('C', 'B'), \n",
    "    ('B', 'A')\n",
    "]\n",
    "\n",
    "model = BNet(edges)"
   ]
  },
  {
   "cell_type": "markdown",
   "id": "f8071083-0925-487f-8c5c-97b5d159a760",
   "metadata": {},
   "source": [
    "<br>\n",
    "\n",
    "A conditional probability tables:"
   ]
  },
  {
   "cell_type": "code",
   "execution_count": 3,
   "id": "460c3461-57a8-4ccb-a96c-b474e8866a82",
   "metadata": {},
   "outputs": [],
   "source": [
    "p_ab = CPDTable(\n",
    "    target = ['A'], \n",
    "    values = [\n",
    "        [.1, .7], \n",
    "        [.9, .3]\n",
    "    ], \n",
    "    evidence = ['B']\n",
    ")\n",
    "\n",
    "p_bc = CPDTable(\n",
    "    target = ['B'], \n",
    "    values = [\n",
    "        [.6, .5], \n",
    "        [.4, .5]\n",
    "    ], \n",
    "    evidence = ['C']\n",
    ")\n",
    "\n",
    "p_c  = CPDTable(\n",
    "    target = ['C'], \n",
    "    values = [\n",
    "        [.2], [.8]\n",
    "    ]\n",
    ")"
   ]
  },
  {
   "cell_type": "code",
   "execution_count": 4,
   "id": "feb7fb23-5bce-4b60-aa54-0715d67db69e",
   "metadata": {},
   "outputs": [],
   "source": [
    "cpds = [p_ab, p_bc, p_c]\n",
    "for cpd in cpds:\n",
    "    model.add_cpd(cpd)"
   ]
  },
  {
   "cell_type": "code",
   "execution_count": 5,
   "id": "429ec6fe-07d7-4906-97c2-4fb168b67dc8",
   "metadata": {},
   "outputs": [
    {
     "name": "stdout",
     "output_type": "stream",
     "text": [
      "Variables to eliminate in order: B\n"
     ]
    }
   ],
   "source": [
    "runner = QRunner(model)\n",
    "res = runner.run_query(\n",
    "    variables = ['A'], \n",
    "    evidence = ['C']\n",
    ")"
   ]
  },
  {
   "cell_type": "code",
   "execution_count": 6,
   "id": "1f2f77dc-b690-4f7e-8370-71f67dc02d18",
   "metadata": {},
   "outputs": [
    {
     "name": "stdout",
     "output_type": "stream",
     "text": [
      "['C', 'A']\n"
     ]
    }
   ],
   "source": [
    "print(res.variables)"
   ]
  },
  {
   "cell_type": "code",
   "execution_count": 7,
   "id": "17e50188-458d-4c4a-aca8-9f62b308c75c",
   "metadata": {},
   "outputs": [
    {
     "name": "stdout",
     "output_type": "stream",
     "text": [
      "[[0.34 0.66]\n",
      " [0.4  0.6 ]]\n"
     ]
    }
   ],
   "source": [
    "print(res.values)"
   ]
  },
  {
   "cell_type": "markdown",
   "id": "8ec23443-fb3b-46bd-b936-5ebbc5c80078",
   "metadata": {},
   "source": [
    "<br>\n",
    "\n",
    "# Example 2: Burglary network\n",
    "\n",
    "A burglary network: \n",
    "\n",
    "$Burglary \\rightarrow Alarm$; $Earthquake \\rightarrow Alarm$; $Alarm \\rightarrow MaryCalls$; $Alarm \\rightarrow JohnCalls$"
   ]
  },
  {
   "cell_type": "code",
   "execution_count": 8,
   "id": "ff132234-51b6-418a-b712-a4960ae6dac8",
   "metadata": {},
   "outputs": [],
   "source": [
    "burglary_edges = [\n",
    "    (\"Burglary\", \"Alarm\"),\n",
    "    (\"Earthquake\", \"Alarm\"),\n",
    "    (\"Alarm\", \"JohnCalls\"),\n",
    "    (\"Alarm\", \"MaryCalls\"),\n",
    "]\n",
    "burglary_model = BNet(burglary_edges)"
   ]
  },
  {
   "cell_type": "markdown",
   "id": "6bab3af8-7545-46f2-aad9-24f8ff803ccd",
   "metadata": {},
   "source": [
    "<br>\n",
    "\n",
    "A conditional probability tables:"
   ]
  },
  {
   "cell_type": "code",
   "execution_count": 9,
   "id": "3b9db2db-7d32-4a0e-b7e4-67997e9c4691",
   "metadata": {},
   "outputs": [],
   "source": [
    "cpd_burglary = CPDTable(\n",
    "    target = [\"Burglary\"], \n",
    "    values=[[0.999], [0.001]]\n",
    ")\n",
    "\n",
    "cpd_earthquake = CPDTable(\n",
    "    target=[\"Earthquake\"], \n",
    "    values=[[0.998], [0.002]]\n",
    ")\n",
    "\n",
    "cpd_alarm = CPDTable(\n",
    "    target=[\"Alarm\"],\n",
    "    values=[\n",
    "        [0.999, 0.71, 0.06, 0.05], \n",
    "        [0.001, 0.29, 0.94, 0.95]\n",
    "    ],\n",
    "    evidence=[\"Burglary\", \"Earthquake\"]\n",
    ")\n",
    "cpd_johncalls = CPDTable(\n",
    "    target=[\"JohnCalls\"],\n",
    "    values=[\n",
    "        [0.95, 0.1], \n",
    "        [0.05, 0.9]\n",
    "    ],\n",
    "    evidence=[\"Alarm\"]    \n",
    ")\n",
    "\n",
    "cpd_marycalls = CPDTable(\n",
    "    target=[\"MaryCalls\"],    \n",
    "    values=[\n",
    "        [0.1, 0.7], \n",
    "        [0.9, 0.3]\n",
    "    ],\n",
    "    evidence=[\"Alarm\"],\n",
    ")"
   ]
  },
  {
   "cell_type": "code",
   "execution_count": 10,
   "id": "24e47794-b7fa-4513-a110-a4bf9ae9ae77",
   "metadata": {},
   "outputs": [],
   "source": [
    "cpds = [cpd_burglary, cpd_earthquake, cpd_alarm, cpd_johncalls, cpd_marycalls]\n",
    "for cpd in cpds:\n",
    "    burglary_model.add_cpd(cpd)"
   ]
  },
  {
   "cell_type": "code",
   "execution_count": 11,
   "id": "a74a77e0-fcec-4748-9708-f1eed9aa693a",
   "metadata": {},
   "outputs": [
    {
     "name": "stdout",
     "output_type": "stream",
     "text": [
      "Variables to eliminate in order: Earthquake, Burglary, Alarm\n"
     ]
    }
   ],
   "source": [
    "runner = QRunner(burglary_model)\n",
    "res = runner.run_query(\n",
    "    variables = ['MaryCalls'], \n",
    "    evidence = ['JohnCalls']\n",
    ")"
   ]
  },
  {
   "cell_type": "code",
   "execution_count": 12,
   "id": "8527cb98-fcd0-428a-a864-561136e95197",
   "metadata": {},
   "outputs": [
    {
     "data": {
      "text/plain": [
       "['JohnCalls', 'MaryCalls']"
      ]
     },
     "execution_count": 12,
     "metadata": {},
     "output_type": "execute_result"
    }
   ],
   "source": [
    "res.variables"
   ]
  },
  {
   "cell_type": "code",
   "execution_count": 13,
   "id": "50f740ac-c1e1-40cb-97b5-519c5c62efc4",
   "metadata": {},
   "outputs": [
    {
     "data": {
      "text/plain": [
       "array([[0.10150987, 0.89849013],\n",
       "       [0.10150987, 0.89849013]])"
      ]
     },
     "execution_count": 13,
     "metadata": {},
     "output_type": "execute_result"
    }
   ],
   "source": [
    "res.values"
   ]
  }
 ],
 "metadata": {
  "kernelspec": {
   "display_name": "Python 3 (ipykernel)",
   "language": "python",
   "name": "python3"
  },
  "language_info": {
   "codemirror_mode": {
    "name": "ipython",
    "version": 3
   },
   "file_extension": ".py",
   "mimetype": "text/x-python",
   "name": "python",
   "nbconvert_exporter": "python",
   "pygments_lexer": "ipython3",
   "version": "3.10.6"
  }
 },
 "nbformat": 4,
 "nbformat_minor": 5
}
